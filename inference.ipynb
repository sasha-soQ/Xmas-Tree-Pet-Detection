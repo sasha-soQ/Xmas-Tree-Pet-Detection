{
 "cells": [
  {
   "cell_type": "markdown",
   "metadata": {},
   "source": [
    "#### Import libraries"
   ]
  },
  {
   "cell_type": "code",
   "execution_count": 21,
   "metadata": {
    "_cell_guid": "b1076dfc-b9ad-4769-8c92-a6c4dae69d19",
    "_uuid": "8f2839f25d086af736a60e9eeb907d3b93b6e0e5",
    "tags": []
   },
   "outputs": [],
   "source": [
    "import torch\n",
    "import sys\n",
    "import os\n",
    "#sys.path.append(\"/kaggle/input/yolov7-lib/yolov7-main\")\n",
    "import cv2\n",
    "import numpy as np\n",
    "import torch\n",
    "import time\n",
    "import datetime\n",
    "from PIL import Image, ImageDraw, ImageFont\n",
    "\n",
    "from models.experimental import attempt_load\n",
    "from utils.general import non_max_suppression\n",
    "\n",
    "from PIL import ImageGrab\n",
    "import numpy as np\n",
    "import cv2\n",
    "\n",
    "WEIGHTS = \"best.pt\"\n",
    "DEVICE = torch.device(0) # cpu / torch.device(0)\n",
    "IMAGE_SIZE = 640\n",
    "conf_threshold = 0.7\n",
    "CLASSES = ['Dog','Cat','Tree']"
   ]
  },
  {
   "cell_type": "markdown",
   "metadata": {},
   "source": [
    "LINE NOTIFY"
   ]
  },
  {
   "cell_type": "code",
   "execution_count": 22,
   "metadata": {},
   "outputs": [],
   "source": [
    "import requests   \n",
    "\n",
    "def notify(msg, token):\n",
    "    url=\"https://notify-api.line.me/api/notify\"     # Line Notify API 網址\n",
    "    headers={\"Authorization\": \"Bearer \" + token}   # HTTPS 表頭\n",
    "    payload={\"message\": msg}               # HTTPS 承載 (內容)\n",
    "    r=requests.post(url, headers=headers, params=payload) # 提出 POST 請求\n",
    "    return \"訊息發送成功！\""
   ]
  },
  {
   "cell_type": "code",
   "execution_count": 23,
   "metadata": {},
   "outputs": [],
   "source": [
    "def notifyImage(msg, token, image):\n",
    "    url='https://notify-api.line.me/api/notify'\n",
    "    headers={'Authorization': 'Bearer ' + token}\n",
    "    data={'message': msg}\n",
    "    image=open(image, 'rb')\n",
    "    imageFile={'imageFile': image}\n",
    "    r=requests.post(url, headers=headers, data=data, files=imageFile)\n",
    "    if r.status_code==requests.codes.ok:\n",
    "        return '圖片發送成功！'\n",
    "    else:\n",
    "        return f'圖片發送失敗: {r.status_code}' "
   ]
  },
  {
   "cell_type": "code",
   "execution_count": 39,
   "metadata": {},
   "outputs": [],
   "source": [
    "token='Qh118dzcCM6eyQLpo5KR4hxEalUqCfnO99QG3RGfZFu'\n",
    "msg_dog = '\\ndog is being naughty'\n",
    "msg_cat = '\\ncat is being naughty'\n",
    "msg_dogncat = '\\ndog & cat are being naughty'"
   ]
  },
  {
   "cell_type": "markdown",
   "metadata": {},
   "source": [
    "#### Load YOLOv7"
   ]
  },
  {
   "cell_type": "code",
   "execution_count": 25,
   "metadata": {
    "tags": []
   },
   "outputs": [
    {
     "name": "stdout",
     "output_type": "stream",
     "text": [
      "Fusing layers... \n",
      "RepConv.fuse_repvgg_block\n",
      "RepConv.fuse_repvgg_block\n",
      "RepConv.fuse_repvgg_block\n",
      "IDetect.fuse\n"
     ]
    }
   ],
   "source": [
    "model = attempt_load(WEIGHTS, map_location=DEVICE)"
   ]
  },
  {
   "cell_type": "markdown",
   "metadata": {},
   "source": [
    "#### Helper\n",
    "\n",
    "This function can be reused for object detection\n",
    "It takes an image and returns keypoints as numpy array of shape ```[num_objects, 6]```.\n",
    "Each object is represented as ```[x1, y1, x2, y2, conf, class_id]```."
   ]
  },
  {
   "cell_type": "code",
   "execution_count": 26,
   "metadata": {},
   "outputs": [],
   "source": [
    "def predict(image, image_size=640):\n",
    "    image = np.asarray(image)\n",
    "    \n",
    "    # Resize image to the inference size\n",
    "    ori_h, ori_w = image.shape[:2]\n",
    "    image = cv2.resize(image, (image_size, image_size))\n",
    "    \n",
    "    # Transform image from numpy to torch format\n",
    "    image_pt = torch.from_numpy(image).permute(2, 0, 1).to(DEVICE)\n",
    "    image_pt = image_pt.float() / 255.0\n",
    "    \n",
    "    # Infer\n",
    "    with torch.no_grad():\n",
    "        pred = model(image_pt[None], augment=False)[0]\n",
    "    \n",
    "    # NMS\n",
    "    pred = non_max_suppression(pred,iou_thres=0.7)[0].cpu().numpy()\n",
    "    \n",
    "    # Resize boxes to the original image size\n",
    "    pred[:, [0, 2]] *= ori_w / image_size\n",
    "    pred[:, [1, 3]] *= ori_h / image_size\n",
    "    \n",
    "    return pred"
   ]
  },
  {
   "cell_type": "markdown",
   "metadata": {},
   "source": [
    "#### Load image"
   ]
  },
  {
   "cell_type": "code",
   "execution_count": 27,
   "metadata": {
    "tags": []
   },
   "outputs": [],
   "source": [
    "# IMAGE_FILE = \"8.jpg\"\n",
    "# images = Image.open(IMAGE_FILE)\n",
    "# type(images)"
   ]
  },
  {
   "cell_type": "markdown",
   "metadata": {},
   "source": [
    "#### Predict"
   ]
  },
  {
   "cell_type": "code",
   "execution_count": 28,
   "metadata": {},
   "outputs": [],
   "source": [
    "# pred = predict(image)\n",
    "\n",
    "# draw = ImageDraw.Draw(image)\n",
    "# for x1, y1, x2, y2, conf, class_id in pred:\n",
    "#     if conf >= conf_threshold:\n",
    "#         print(x1, y1, x2, y2, conf, class_id)\n",
    "#         draw.rectangle(((x1, y1), (x2, y2)), width=2)\n",
    "#         draw.text((x1, y1), CLASSES[int(class_id)])"
   ]
  },
  {
   "cell_type": "code",
   "execution_count": 29,
   "metadata": {},
   "outputs": [],
   "source": [
    "def cross(object1,object2):\n",
    "    M = [ max(object1['x1'],object2['x1']),max(object1['y1'],object2['y1']) ]\n",
    "    N = [ min(object1['x2'],object2['x2']),min(object1['y2'],object2['y2']) ]\n",
    "    if (N[0] > M[0]) & (N[1] > M[1]):\n",
    "        return True\n",
    "    else:\n",
    "        return False"
   ]
  },
  {
   "cell_type": "markdown",
   "metadata": {},
   "source": [
    "判斷條件式"
   ]
  },
  {
   "cell_type": "code",
   "execution_count": 33,
   "metadata": {},
   "outputs": [],
   "source": [
    "def judge(image):\n",
    "    pred = predict(image)\n",
    "    draw = ImageDraw.Draw(image)\n",
    "    tree = {'x1':0,'y1':0,'x2':0,'y2':0}\n",
    "    cat = {'x1':0,'y1':0,'x2':0,'y2':0}\n",
    "    dog = {'x1':0,'y1':0,'x2':0,'y2':0}\n",
    "    for x1, y1, x2, y2, conf, class_id in pred:\n",
    "        if conf >= conf_threshold:\n",
    "            text = f\"{CLASSES[int(class_id)]}  {conf:.2f}\"\n",
    "            font = ImageFont.truetype(r'Fruit Days.ttf', 20)\n",
    "            if class_id == 2.0:\n",
    "                tree = {'x1':x1,'y1':y1,'x2':x2,'y2':y2}\n",
    "                draw.rectangle(((x1, y1), (x2, y2)), width=2,outline = \"red\")\n",
    "                draw.text((x1, y1), text, fill = \"red\", font = font)\n",
    "            elif class_id == 1.0:\n",
    "                cat = {'x1':x1,'y1':y1,'x2':x2,'y2':y2}\n",
    "                draw.rectangle(((x1, y1), (x2, y2)), width=2,outline = \"aqua\")\n",
    "                draw.text((x1, y1), text, fill = \"aqua\", font = font)\n",
    "            elif class_id == 0.0:\n",
    "                dog = {'x1':x1,'y1':y1,'x2':x2,'y2':y2}\n",
    "                draw.rectangle(((x1, y1), (x2, y2)), width=2,outline = \"yellow\")\n",
    "                draw.text((x1, y1), text, fill = \"yellow\", font = font)\n",
    "    image.save('send_test.jpg')\n",
    "    try:\n",
    "        if (any(dog) == True & any(cat)== True & any(tree)== True ) & (cross(dog,tree) == True) & (cross(cat,tree) == True):\n",
    "            #print('dogncat')  \n",
    "            return 1\n",
    "        elif ( (any(cat) == True & any(tree) == True) or (any(dog) == True & any(cat)== True & any(tree)== True ) ) & (cross(cat,tree) == True):\n",
    "            #print('cat')\n",
    "            return 2\n",
    "        elif ( (any(dog) == True & any(tree) == True) or (any(dog) == True & any(cat)== True & any(tree)== True ) ) & (cross(dog,tree) == True):\n",
    "            #print('dog')\n",
    "            return 3           \n",
    "    except:\n",
    "        return 0"
   ]
  },
  {
   "cell_type": "code",
   "execution_count": 31,
   "metadata": {},
   "outputs": [],
   "source": [
    "# img = ImageGrab.grab(bbox=(0,320,1283,1033))\n",
    "# frame = np.array(img)\n",
    "# frame = frame[:,:,::-1]\n",
    "# cv2.imshow(\"result\",frame)\n",
    "# cv2.waitKey(0)\n",
    "# cv2.destroyAllWindows()"
   ]
  },
  {
   "cell_type": "code",
   "execution_count": 38,
   "metadata": {},
   "outputs": [],
   "source": [
    "result = [0]*50\n",
    "sentDogNCatTime, sentDogTime, sentCatTime = 0, 0, 0\n",
    "while(True):\n",
    "\n",
    "    img = ImageGrab.grab(bbox=(0,320,1283,1033)) #bbox specifies specific region (bbox= x,y,width,height)\n",
    "    #frame = np.array(img)\n",
    "    judged = judge(img)\n",
    "    result.append(judged)\n",
    "    result.pop(0)\n",
    "    \n",
    "    if result.count(1) >= 40:\n",
    "        nowTime = int(time.time())\n",
    "        if (nowTime - sentDogNCatTime) > 10:\n",
    "            #notify(msg_dogncat, token)\n",
    "            notifyImage(msg_dogncat, token, 'send_test.jpg')\n",
    "            sentDogNCatTime = int(time.time())\n",
    "    elif result.count(2) >= 40:\n",
    "        nowTime = int(time.time())\n",
    "        if ((nowTime - sentCatTime) > 10) & ((nowTime - sentDogNCatTime) > 10):\n",
    "            #notify(msg_cat, token)\n",
    "            notifyImage(msg_cat, token, 'send_test.jpg')\n",
    "            sentCatTime = int(time.time())\n",
    "    elif result.count(3) >= 40:\n",
    "        nowTime = int(time.time())\n",
    "        if ((nowTime - sentDogTime) > 10) & ((nowTime - sentDogNCatTime) > 10):\n",
    "            #notify(msg_dog, token)\n",
    "            notifyImage(msg_dog, token, 'send_test.jpg')\n",
    "            sentDogTime = int(time.time())\n",
    "\n",
    "\n",
    "\n",
    "    #frame = cv2.cvtColor(img_np, cv2.COLOR_BGR2GRAY)\n",
    "    frame = np.array(img)\n",
    "    frame = frame[:,:,::-1]\n",
    "    frame = cv2.resize(frame,(650,450))\n",
    "    cv2.imshow(\"test\", frame)\n",
    "    if cv2.waitKey(1) & 0xFF == ord('q'):\n",
    "        break    \n",
    "cv2.destroyAllWindows()"
   ]
  }
 ],
 "metadata": {
  "kernelspec": {
   "display_name": "Python 3 (ipykernel)",
   "language": "python",
   "name": "python3"
  },
  "language_info": {
   "codemirror_mode": {
    "name": "ipython",
    "version": 3
   },
   "file_extension": ".py",
   "mimetype": "text/x-python",
   "name": "python",
   "nbconvert_exporter": "python",
   "pygments_lexer": "ipython3",
   "version": "3.10.5"
  },
  "vscode": {
   "interpreter": {
    "hash": "361a2c8f0a30ee967dc44fb48a7ba7e5d2b816f6fef1d8a120a6682b1be13f69"
   }
  }
 },
 "nbformat": 4,
 "nbformat_minor": 4
}

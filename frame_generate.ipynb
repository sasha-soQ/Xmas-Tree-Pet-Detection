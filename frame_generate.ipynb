{
 "cells": [
  {
   "cell_type": "code",
   "execution_count": 1,
   "metadata": {},
   "outputs": [],
   "source": [
    "import cv2"
   ]
  },
  {
   "cell_type": "code",
   "execution_count": 2,
   "metadata": {},
   "outputs": [],
   "source": [
    "filepath = 'frame'"
   ]
  },
  {
   "cell_type": "code",
   "execution_count": 6,
   "metadata": {},
   "outputs": [],
   "source": [
    "# current camera\n",
    "fCount = 0\n",
    "cap = cv2.VideoCapture('train.mp4')\n",
    "while (cap.isOpened()):\n",
    "    ret, frame = cap.read()\n",
    "   #cv2.imshow('frame', frame)\n",
    "    fCount += 1\n",
    "    if (ret == True) :\n",
    "        cv2.imwrite('%d.jpg' % (fCount), frame)\n",
    "    key = cv2.waitKey(1)\n",
    "   # ESC\n",
    "    if key == 27:\n",
    "        break\n",
    "cap.release()\n",
    "cv2.destroyAllWindows()"
   ]
  },
  {
   "cell_type": "code",
   "execution_count": null,
   "metadata": {},
   "outputs": [],
   "source": []
  }
 ],
 "metadata": {
  "kernelspec": {
   "display_name": "base",
   "language": "python",
   "name": "python3"
  },
  "language_info": {
   "codemirror_mode": {
    "name": "ipython",
    "version": 3
   },
   "file_extension": ".py",
   "mimetype": "text/x-python",
   "name": "python",
   "nbconvert_exporter": "python",
   "pygments_lexer": "ipython3",
   "version": "3.7.4"
  },
  "orig_nbformat": 4,
  "vscode": {
   "interpreter": {
    "hash": "361a2c8f0a30ee967dc44fb48a7ba7e5d2b816f6fef1d8a120a6682b1be13f69"
   }
  }
 },
 "nbformat": 4,
 "nbformat_minor": 2
}
